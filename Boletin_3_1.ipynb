{
 "cells": [
  {
   "cell_type": "code",
   "execution_count": null,
   "metadata": {
    "id": "9xQY616xf5sU"
   },
   "outputs": [],
   "source": [
    "!pip install tensorflow"
   ]
  },
  {
   "cell_type": "code",
   "execution_count": null,
   "metadata": {
    "id": "wNW6AQN9gGGv"
   },
   "outputs": [],
   "source": [
    "!pip install keras;\n"
   ]
  },
  {
   "cell_type": "code",
   "execution_count": 4,
   "metadata": {
    "colab": {
     "base_uri": "https://localhost:8080/"
    },
    "id": "7QkPSABJgZrm",
    "outputId": "cf9aeb12-5e42-4086-f2bf-00e247aa2233"
   },
   "outputs": [
    {
     "name": "stdout",
     "output_type": "stream",
     "text": [
      "Looking in indexes: https://pypi.org/simple, https://us-python.pkg.dev/colab-wheels/public/simple/\n",
      "Collecting mahotas\n",
      "  Downloading mahotas-1.4.12-cp37-cp37m-manylinux_2_12_x86_64.manylinux2010_x86_64.whl (5.7 MB)\n",
      "\u001b[K     |████████████████████████████████| 5.7 MB 4.8 MB/s \n",
      "\u001b[?25hRequirement already satisfied: numpy in /usr/local/lib/python3.7/dist-packages (from mahotas) (1.21.6)\n",
      "Installing collected packages: mahotas\n",
      "Successfully installed mahotas-1.4.12\n"
     ]
    }
   ],
   "source": [
    "!pip install mahotas"
   ]
  },
  {
   "cell_type": "code",
   "execution_count": 5,
   "metadata": {
    "id": "dX1IZbm2geJm"
   },
   "outputs": [],
   "source": [
    "from keras.datasets import fashion_mnist\n",
    "import matplotlib.pyplot as plt\n",
    "import mahotas\n",
    "import numpy as np\n",
    "from pylab import gray, imshow, show\n",
    "import os"
   ]
  },
  {
   "cell_type": "code",
   "execution_count": 88,
   "metadata": {
    "id": "t3yWcBbughmO"
   },
   "outputs": [],
   "source": [
    "(x_train, y_train), (x_test, y_test) = fashion_mnist.load_data()\n",
    "\n",
    "# y_train=y_train[0:10000]\n",
    "# x_train=x_train[0:10000]\n",
    "\n",
    "\n",
    "\n",
    "# radius\n",
    "radius = 10\n",
    "# computing zernike moments\n",
    "\n",
    "# printing value\n",
    "sandal=np.where(y_test == 5)[0]\n",
    "sandal=sandal[0:100]\n",
    "\n",
    "T_shirt=np.where(y_test == 0)[0]\n",
    "T_shirt=T_shirt[0:100]\n",
    "\n",
    "Dress=np.where(y_test == 3)[0]\n",
    "Dress=Dress[0:100]\n",
    "\n",
    "Coat=np.where(y_test == 4)[0]\n",
    "Coat=Coat[0:100]\n",
    "\n",
    "resultado=100.00\n",
    "posicionTrain=0\n"
   ]
  },
  {
   "cell_type": "code",
   "execution_count": null,
   "metadata": {
    "id": "x_kZrgGQFplf"
   },
   "outputs": [],
   "source": [
    "sandalTrain=np.where(y_train == 5)[0]\n",
    "sandalTrain=sandalTrain[0:1000]\n",
    "\n",
    "T_shirtTrain=np.where(y_train == 0)[0]\n",
    "T_shirtTrain=T_shirtTrain[0:1000]\n",
    "\n",
    "DressTrain=np.where(y_train == 3)[0]\n",
    "DressTrain=DressTrain[0:1000]\n",
    "\n",
    "CoatTrain=np.where(y_train == 4)[0]\n",
    "CoatTrain=CoatTrain[0:1000]\n",
    "\n",
    "# print(np.shape(CoatTrain))\n",
    "# print(np.shape(y_train))\n",
    "# print(y_train)\n",
    "\n",
    "posy_train=np.concatenate((sandalTrain,T_shirtTrain,DressTrain,CoatTrain),axis=None)\n",
    "# print(np.shape(y_train))\n",
    "# print(posy_train)"
   ]
  },
  {
   "cell_type": "code",
   "execution_count": null,
   "metadata": {
    "id": "tcuXKZwRHFyn"
   },
   "outputs": [],
   "source": [
    "# print(np.shape(x_train))\n",
    "# print(x_train[1,:])\n",
    "newx_train=[]\n",
    "newy_train=[]\n",
    "for i in range(len(posy_train)):\n",
    "  posy=posy_train[i]\n",
    "  newx_train.append(x_train[posy,:])\n",
    "  newy_train.append(y_train[posy])\n",
    "\n",
    "# print(len(newx_train))\n",
    "# print(len(newy_train))\n",
    "# print(newy_train)"
   ]
  },
  {
   "cell_type": "code",
   "execution_count": null,
   "metadata": {
    "id": "b-RisWiDbYeQ"
   },
   "outputs": [],
   "source": [
    "\n",
    "plt.imshow(newx_train[1000])\n",
    "plt.show"
   ]
  },
  {
   "cell_type": "code",
   "execution_count": null,
   "metadata": {
    "id": "hI-LSi_QgtC1"
   },
   "outputs": [],
   "source": [
    "resultadosListTotal=[]\n",
    "posicionTrainListTotal=[]\n",
    "listaTest=[sandal,T_shirt,Dress,Coat]\n",
    "\n",
    "\n",
    "for i in range(len(listaTest)):\n",
    "    resultadosList=[]\n",
    "    posicionTrainList=[]\n",
    "    print(\"Posicion array Test\",i)\n",
    "    for j in range(100):\n",
    "        posicionTest=listaTest[i][j]\n",
    "        for x in range(len(newx_train)):\n",
    "            imagenTest=x_test[posicionTest, :]\n",
    "            imagenTrain=newx_train[x]\n",
    "            valueTest = mahotas.features.zernike_moments(imagenTest, radius)\n",
    "            valueTrain = mahotas.features.zernike_moments(imagenTrain, radius)\n",
    " \n",
    "            dist = np.linalg.norm(valueTest-valueTrain)\n",
    "            if(dist<resultado):\n",
    "                \n",
    "                resultado=dist\n",
    "                posicionTrain=x\n",
    "        \n",
    "        resultadosList.append(resultado)\n",
    "        posicionTrainList.append(posicionTrain)\n",
    "        resultado=100.00\n",
    "\n",
    "    resultadosListTotal.append(resultadosList)\n",
    "    posicionTrainListTotal.append(posicionTrainList)"
   ]
  },
  {
   "cell_type": "code",
   "execution_count": 64,
   "metadata": {
    "colab": {
     "base_uri": "https://localhost:8080/"
    },
    "id": "r-PSHEgthJvv",
    "outputId": "6d4fc1db-2ec4-4ac7-fb02-4af3a0c02784"
   },
   "outputs": [
    {
     "name": "stdout",
     "output_type": "stream",
     "text": [
      "(4, 100)\n",
      "-------------------------------\n",
      "(4, 100)\n"
     ]
    }
   ],
   "source": [
    "print(np.shape(posicionTrainListTotal))\n",
    "print(\"-------------------------------\")\n",
    "print(np.shape(resultadosListTotal))\n"
   ]
  },
  {
   "cell_type": "code",
   "execution_count": 102,
   "metadata": {
    "id": "jTaVwIjAj3bt"
   },
   "outputs": [],
   "source": [
    "categoriasTrain=[]\n",
    "categoriasTest=[]\n",
    "for i in range(4):\n",
    "  for j in range(100):\n",
    "    pos=posicionTrainListTotal[i][j]\n",
    "    pos2=listaTest[i][j]\n",
    "\n",
    "    valor=newy_train[pos]\n",
    "    valor2=y_test[pos2]\n",
    "    categoriasTrain.append(valor)\n",
    "    categoriasTest.append(valor2)\n",
    "\n",
    "    "
   ]
  },
  {
   "cell_type": "code",
   "execution_count": 104,
   "metadata": {
    "colab": {
     "base_uri": "https://localhost:8080/"
    },
    "id": "kYi0RtmSME1x",
    "outputId": "d5958f3e-fb37-4887-bf5a-0874daaa5042"
   },
   "outputs": [
    {
     "name": "stdout",
     "output_type": "stream",
     "text": [
      "[5, 5, 5, 5, 5, 5, 5, 5, 5, 5, 5, 5, 5, 5, 5, 5, 5, 5, 5, 5, 5, 5, 5, 5, 5, 5, 5, 5, 5, 5, 5, 5, 5, 5, 5, 5, 5, 5, 5, 5, 5, 5, 5, 5, 5, 5, 5, 5, 5, 5, 5, 5, 5, 5, 5, 5, 5, 5, 5, 5, 5, 5, 5, 5, 5, 5, 5, 5, 5, 5, 5, 5, 5, 5, 5, 5, 5, 5, 5, 5, 5, 5, 5, 5, 5, 5, 5, 5, 5, 5, 5, 5, 5, 5, 5, 5, 5, 5, 5, 5, 0, 0, 0, 0, 0, 0, 0, 0, 0, 0, 0, 0, 0, 0, 0, 0, 0, 0, 0, 0, 0, 0, 0, 0, 0, 0, 0, 0, 0, 0, 0, 0, 0, 0, 0, 0, 0, 0, 0, 0, 0, 0, 0, 0, 0, 0, 0, 0, 0, 0, 0, 0, 0, 0, 0, 0, 0, 0, 0, 0, 0, 0, 0, 0, 0, 0, 0, 0, 0, 0, 0, 0, 0, 0, 0, 0, 0, 0, 0, 0, 0, 0, 0, 0, 0, 0, 0, 0, 0, 0, 0, 0, 0, 0, 0, 0, 0, 0, 0, 0, 3, 3, 3, 3, 3, 3, 3, 3, 3, 3, 3, 3, 3, 3, 3, 3, 3, 3, 3, 3, 3, 3, 3, 3, 3, 3, 3, 3, 3, 3, 3, 3, 3, 3, 3, 3, 3, 3, 3, 3, 3, 3, 3, 3, 3, 3, 3, 3, 3, 3, 3, 3, 3, 3, 3, 3, 3, 3, 3, 3, 3, 3, 3, 3, 3, 3, 3, 3, 3, 3, 3, 3, 3, 3, 3, 3, 3, 3, 3, 3, 3, 3, 3, 3, 3, 3, 3, 3, 3, 3, 3, 3, 3, 3, 3, 3, 3, 3, 3, 3, 4, 4, 4, 4, 4, 4, 4, 4, 4, 4, 4, 4, 4, 4, 4, 4, 4, 4, 4, 4, 4, 4, 4, 4, 4, 4, 4, 4, 4, 4, 4, 4, 4, 4, 4, 4, 4, 4, 4, 4, 4, 4, 4, 4, 4, 4, 4, 4, 4, 4, 4, 4, 4, 4, 4, 4, 4, 4, 4, 4, 4, 4, 4, 4, 4, 4, 4, 4, 4, 4, 4, 4, 4, 4, 4, 4, 4, 4, 4, 4, 4, 4, 4, 4, 4, 4, 4, 4, 4, 4, 4, 4, 4, 4, 4, 4, 4, 4, 4, 4]\n"
     ]
    }
   ],
   "source": [
    "print(categoriasTest)\n"
   ]
  },
  {
   "cell_type": "code",
   "execution_count": 105,
   "metadata": {
    "colab": {
     "base_uri": "https://localhost:8080/"
    },
    "id": "6gSiYB70MLV4",
    "outputId": "7532e66e-6841-4a43-a717-1e30f54d08c0"
   },
   "outputs": [
    {
     "name": "stdout",
     "output_type": "stream",
     "text": [
      "[5, 5, 4, 5, 5, 5, 5, 5, 5, 5, 5, 5, 5, 5, 5, 5, 0, 5, 5, 5, 5, 5, 0, 4, 5, 5, 5, 5, 5, 5, 5, 5, 5, 5, 5, 5, 5, 3, 5, 5, 5, 5, 5, 5, 5, 5, 5, 5, 5, 5, 5, 5, 5, 0, 5, 5, 5, 5, 5, 5, 5, 5, 3, 5, 5, 5, 5, 5, 5, 0, 5, 5, 5, 5, 5, 5, 5, 5, 5, 5, 5, 5, 5, 5, 5, 5, 5, 5, 5, 5, 5, 5, 5, 5, 5, 4, 5, 5, 5, 5, 0, 0, 0, 0, 0, 0, 0, 0, 0, 3, 0, 0, 4, 3, 0, 4, 0, 0, 0, 0, 0, 0, 0, 0, 0, 0, 0, 0, 0, 0, 0, 0, 0, 0, 3, 0, 0, 4, 0, 0, 0, 0, 0, 0, 0, 0, 0, 3, 0, 0, 0, 0, 0, 0, 0, 0, 3, 0, 0, 0, 5, 3, 0, 0, 3, 0, 0, 0, 0, 0, 0, 0, 3, 0, 4, 0, 0, 0, 0, 0, 0, 0, 0, 5, 0, 4, 0, 3, 0, 3, 0, 3, 0, 4, 0, 3, 0, 0, 4, 0, 3, 4, 3, 3, 4, 4, 3, 3, 3, 3, 3, 3, 3, 3, 0, 3, 3, 3, 3, 3, 4, 3, 3, 4, 3, 3, 3, 3, 3, 3, 3, 3, 3, 3, 3, 3, 4, 3, 3, 3, 3, 3, 3, 3, 3, 4, 3, 3, 3, 5, 3, 4, 3, 5, 3, 0, 3, 3, 0, 3, 4, 3, 3, 0, 5, 3, 3, 3, 0, 3, 3, 3, 3, 4, 3, 0, 3, 3, 4, 3, 3, 5, 3, 3, 3, 0, 3, 0, 0, 0, 3, 3, 3, 4, 3, 3, 5, 3, 3, 3, 0, 4, 4, 0, 4, 4, 4, 4, 4, 4, 4, 4, 4, 4, 0, 4, 4, 4, 4, 4, 4, 4, 4, 4, 4, 4, 4, 0, 4, 3, 4, 4, 4, 0, 4, 4, 4, 4, 4, 4, 3, 4, 4, 3, 4, 4, 4, 4, 4, 4, 4, 4, 4, 4, 4, 0, 4, 4, 4, 4, 4, 4, 4, 4, 4, 4, 3, 4, 0, 4, 4, 4, 4, 4, 4, 4, 4, 4, 4, 4, 3, 4, 4, 4, 4, 4, 4, 4, 4, 4, 4, 4, 4, 4, 4, 4, 4, 4, 4, 4]\n"
     ]
    }
   ],
   "source": [
    "print(categoriasTrain)"
   ]
  },
  {
   "cell_type": "code",
   "execution_count": 106,
   "metadata": {
    "colab": {
     "base_uri": "https://localhost:8080/",
     "height": 279
    },
    "id": "MMmIL3hcm2zV",
    "outputId": "15c2d133-c878-48d6-9a55-53255c0ce457"
   },
   "outputs": [
    {
     "data": {
      "image/png": "[encoded data removed]",
      "text/plain": [
       "<Figure size 432x288 with 2 Axes>"
      ]
     },
     "metadata": {
      "needs_background": "light"
     },
     "output_type": "display_data"
    }
   ],
   "source": [
    "from sklearn.metrics import confusion_matrix\n",
    "from string import ascii_uppercase\n",
    "import pandas as pd\n",
    "import seaborn as sns\n",
    "conf=confusion_matrix(categoriasTrain,categoriasTest)\n",
    "columnas=['0 camiseta/top','3 vestido','4 abrigo','5 Sandalia']\n",
    "df_cm=pd.DataFrame(conf,index=columnas, columns=columnas)\n",
    "\n",
    "grafica=sns.heatmap(df_cm,cmap='Pastel1',annot=True)\n",
    "plt.ylabel('valores verdaderos')\n",
    "plt.xlabel('Valores prediccion')\n",
    "grafica.set(xlabel=\"Verdaderos\",ylabel='Predicciones')\n",
    "plt.show()"
   ]
  },
  {
   "cell_type": "code",
   "execution_count": 111,
   "metadata": {
    "colab": {
     "base_uri": "https://localhost:8080/",
     "height": 248
    },
    "id": "70bqVpe7B7F_",
    "outputId": "47db22a8-45fd-48de-a25f-8a12353f0d1a"
   },
   "outputs": [
    {
     "data": {
      "image/png": "[encoded data removed]",
      "text/plain": [
       "<Figure size 432x288 with 1 Axes>"
      ]
     },
     "metadata": {},
     "output_type": "display_data"
    }
   ],
   "source": [
    "import matplotlib.pyplot as plt\n",
    "\n",
    "total_aciertos=79+73+88+91\n",
    "total_fallos=12+7+2+10+12+5+4+2+3;\n",
    "porcentaje_acierto=total_aciertos*100/400\n",
    "porcentaje_fallo=total_fallos*100/400\n",
    "\n",
    "porcentajes = [porcentaje_acierto,porcentaje_fallo]\n",
    "nombres = [\"Aciertos\",\"Fallos\"]\n",
    "colores = [\"#60D394\",\"#EE6055\"]\n",
    "desfase = ( 0, 0.1)\n",
    "plt.pie(porcentajes, labels=nombres, autopct=\"%0.1f %%\", colors=colores, explode=desfase)\n",
    "plt.axis(\"equal\")\n",
    "plt.show()"
   ]
  }
 ],
 "metadata": {
  "colab": {
   "collapsed_sections": [],
   "name": "Boletin 3-1.ipynb",
   "provenance": []
  },
  "kernelspec": {
   "display_name": "Python 3 (ipykernel)",
   "language": "python",
   "name": "python3"
  },
  "language_info": {
   "codemirror_mode": {
    "name": "ipython",
    "version": 3
   },
   "file_extension": ".py",
   "mimetype": "text/x-python",
   "name": "python",
   "nbconvert_exporter": "python",
   "pygments_lexer": "ipython3",
   "version": "3.9.7"
  }
 },
 "nbformat": 4,
 "nbformat_minor": 1
}
